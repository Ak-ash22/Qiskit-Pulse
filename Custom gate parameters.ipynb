{
 "cells": [
  {
   "cell_type": "markdown",
   "id": "b4d94675",
   "metadata": {},
   "source": [
    "# Customizing Gates"
   ]
  },
  {
   "cell_type": "markdown",
   "id": "148c121f",
   "metadata": {},
   "source": [
    "Pulse parameters for Hadamard gate"
   ]
  },
  {
   "cell_type": "code",
   "execution_count": 44,
   "id": "872cd24e",
   "metadata": {},
   "outputs": [],
   "source": [
    "from qiskit import QuantumCircuit, IBMQ, transpile, schedule, pulse, assemble\n",
    "from qiskit.circuit import Parameter\n",
    "from qiskit.tools.monitor import job_monitor\n",
    "from qiskit.pulse.library import Gaussian\n",
    "from qiskit.visualization import plot_histogram\n",
    "from qiskit.test.mock import FakeArmonk"
   ]
  },
  {
   "cell_type": "code",
   "execution_count": 45,
   "id": "f6c83bf2",
   "metadata": {},
   "outputs": [
    {
     "name": "stderr",
     "output_type": "stream",
     "text": [
      "configrc.store_credentials:WARNING:2022-07-16 23:50:18,050: Credentials already present. Set overwrite=True to overwrite.\n",
      "ibmqfactory.load_account:WARNING:2022-07-16 23:50:19,205: Credentials are already in use. The existing account in the session will be replaced.\n"
     ]
    }
   ],
   "source": [
    "IBMQ.save_account('84e47768480771b0f65f16b3f25447e5ab6b88d174cccb8271d1d0a3e4fdf3ce875e7f9f2612ad64f6f107644f49d8c6d9cd2619469de103753b4ae7556e703a')\n",
    "IBMQ.load_account()\n",
    "\n",
    "backend = FakeArmonk()"
   ]
  },
  {
   "cell_type": "code",
   "execution_count": 46,
   "id": "906d60b5",
   "metadata": {},
   "outputs": [
    {
     "data": {
      "text/html": [
       "<pre style=\"word-wrap: normal;white-space: pre;background: #fff0;line-height: 1.1;font-family: &quot;Courier New&quot;,Courier,monospace\">     ┌───┐┌─┐\n",
       "  q: ┤ H ├┤M├\n",
       "     └───┘└╥┘\n",
       "c: 1/══════╩═\n",
       "           0 </pre>"
      ],
      "text/plain": [
       "     ┌───┐┌─┐\n",
       "  q: ┤ H ├┤M├\n",
       "     └───┘└╥┘\n",
       "c: 1/══════╩═\n",
       "           0 "
      ]
     },
     "execution_count": 46,
     "metadata": {},
     "output_type": "execute_result"
    }
   ],
   "source": [
    "qc = QuantumCircuit(1,1)\n",
    "qc.h(0)\n",
    "qc.measure(0,0)\n",
    "qc.draw()"
   ]
  },
  {
   "cell_type": "code",
   "execution_count": 47,
   "id": "de6565ac",
   "metadata": {},
   "outputs": [
    {
     "name": "stdout",
     "output_type": "stream",
     "text": [
      "((0, ShiftPhase(-1.5707963268, DriveChannel(0))), (0, Play(Drag(duration=320, amp=(0.37526098415448106-0.08060535276562332j), sigma=80, beta=-0.9829945644928844, name='drag_412b'), DriveChannel(0), name='drag_412b')), (320, ShiftPhase(-1.5707963268, DriveChannel(0))), (320, Acquire(22400, AcquireChannel(0), MemorySlot(0))), (320, Play(GaussianSquare(duration=22400, amp=(-0.3584733362723958+0.05040701520361846j), sigma=64, width=22144, name='gaussian_square_b937'), MeasureChannel(0), name='gaussian_square_b937')))\n"
     ]
    }
   ],
   "source": [
    "qc_t = transpile(qc,backend)\n",
    "qc_sched = schedule(qc_t,backend)\n",
    "print(qc_sched.instructions)"
   ]
  },
  {
   "cell_type": "code",
   "execution_count": 48,
   "id": "4891cbbc",
   "metadata": {},
   "outputs": [
    {
     "data": {
      "image/png": "[encoded data removed]",
      "text/plain": [
       "<Figure size 936x241.987 with 1 Axes>"
      ]
     },
     "execution_count": 48,
     "metadata": {},
     "output_type": "execute_result"
    }
   ],
   "source": [
    "qc_sched.draw()"
   ]
  },
  {
   "cell_type": "code",
   "execution_count": null,
   "id": "c8d627f6",
   "metadata": {},
   "outputs": [],
   "source": [
    "with pulse.build(backend) as pulse sched:\n",
    "    pulse.play()"
   ]
  },
  {
   "cell_type": "code",
   "execution_count": null,
   "id": "97c66696",
   "metadata": {},
   "outputs": [],
   "source": []
  },
  {
   "cell_type": "code",
   "execution_count": null,
   "id": "b1de8e34",
   "metadata": {},
   "outputs": [],
   "source": []
  },
  {
   "cell_type": "code",
   "execution_count": null,
   "id": "06861e3a",
   "metadata": {},
   "outputs": [],
   "source": []
  },
  {
   "cell_type": "code",
   "execution_count": null,
   "id": "7b851f55",
   "metadata": {},
   "outputs": [],
   "source": []
  },
  {
   "cell_type": "code",
   "execution_count": null,
   "id": "74c2b12d",
   "metadata": {},
   "outputs": [],
   "source": []
  },
  {
   "cell_type": "markdown",
   "id": "c0be1133",
   "metadata": {},
   "source": [
    "Parameters for X gate"
   ]
  },
  {
   "cell_type": "code",
   "execution_count": null,
   "id": "f93f9b01",
   "metadata": {},
   "outputs": [],
   "source": [
    "qc1 = QuantumCircuit(1,1)\n",
    "qc1.x(0)\n",
    "qc1.measure(0,0)\n",
    "qc1.draw()"
   ]
  },
  {
   "cell_type": "code",
   "execution_count": null,
   "id": "1016bf16",
   "metadata": {},
   "outputs": [],
   "source": [
    "qc1_t = transpile(qc1,backend)\n",
    "qc1_sched = schedule(qc1_t,backend)\n",
    "print(qc1_sched.instructions)"
   ]
  },
  {
   "cell_type": "code",
   "execution_count": null,
   "id": "46287666",
   "metadata": {
    "scrolled": true
   },
   "outputs": [],
   "source": [
    "qc1_sched.draw()"
   ]
  },
  {
   "cell_type": "code",
   "execution_count": null,
   "id": "93077661",
   "metadata": {},
   "outputs": [],
   "source": [
    "qc.save_statevector()"
   ]
  },
  {
   "cell_type": "code",
   "execution_count": null,
   "id": "6aff8c92",
   "metadata": {
    "scrolled": true
   },
   "outputs": [],
   "source": [
    "qobj1 = assemble(qc1_sched,backend)\n",
    "job = backend.run(qobj1)"
   ]
  },
  {
   "cell_type": "code",
   "execution_count": null,
   "id": "97345dca",
   "metadata": {},
   "outputs": [],
   "source": [
    "plot_histogram(job.result().get_counts())"
   ]
  },
  {
   "cell_type": "markdown",
   "id": "eee6442a",
   "metadata": {},
   "source": [
    "Paramters for Z gate"
   ]
  },
  {
   "cell_type": "code",
   "execution_count": null,
   "id": "f819e54e",
   "metadata": {},
   "outputs": [],
   "source": [
    "qc2 = QuantumCircuit(1,1)\n",
    "qc2.s(0)\n",
    "qc2.measure(0,0)\n",
    "qc2.draw()"
   ]
  },
  {
   "cell_type": "code",
   "execution_count": null,
   "id": "f511fa1d",
   "metadata": {},
   "outputs": [],
   "source": [
    "qc2_t = transpile(qc2,backend)\n",
    "qc2_sched = schedule(qc2_t,backend)\n",
    "print(qc2_sched.instructions)"
   ]
  },
  {
   "cell_type": "code",
   "execution_count": null,
   "id": "3b164ee0",
   "metadata": {},
   "outputs": [],
   "source": [
    "qc2_sched.draw()"
   ]
  },
  {
   "cell_type": "code",
   "execution_count": null,
   "id": "0ba11d1b",
   "metadata": {},
   "outputs": [],
   "source": [
    "qobj2 = assemble(qc2_sched,backend)\n",
    "job2 = backend.run(qobj2)"
   ]
  },
  {
   "cell_type": "code",
   "execution_count": null,
   "id": "a85db4ce",
   "metadata": {},
   "outputs": [],
   "source": [
    "plot_histogram(job2.result().get_counts())"
   ]
  },
  {
   "cell_type": "markdown",
   "id": "1dfee6d9",
   "metadata": {},
   "source": [
    "Parameters of X and Z gate on same qubit"
   ]
  },
  {
   "cell_type": "code",
   "execution_count": null,
   "id": "d3f2ca6d",
   "metadata": {},
   "outputs": [],
   "source": [
    "\n",
    "\n",
    "qc3 = QuantumCircuit(1,1)\n",
    "qc3.x(0)\n",
    "qc3.z(0)\n",
    "qc3.measure(0,0)\n",
    "qc3.draw('mpl')"
   ]
  },
  {
   "cell_type": "code",
   "execution_count": null,
   "id": "8747cf46",
   "metadata": {},
   "outputs": [],
   "source": [
    "qc3_t = transpile(qc3, backend)\n",
    "qc3_sched = schedule(qc3_t,backend)\n",
    "print(qc3_sched.instructions)"
   ]
  },
  {
   "cell_type": "code",
   "execution_count": null,
   "id": "b37f5868",
   "metadata": {},
   "outputs": [],
   "source": [
    "qc3_sched.draw()"
   ]
  },
  {
   "cell_type": "markdown",
   "id": "dce3319c",
   "metadata": {},
   "source": [
    "# Custom Gate"
   ]
  },
  {
   "cell_type": "code",
   "execution_count": 30,
   "id": "2270172d",
   "metadata": {},
   "outputs": [],
   "source": [
    "import numpy as np\n",
    "from qiskit.circuit import Gate\n",
    "from qiskit import pulse\n",
    "from qiskit.pulse.library import Gaussian"
   ]
  },
  {
   "cell_type": "code",
   "execution_count": 31,
   "id": "2fd23450",
   "metadata": {},
   "outputs": [],
   "source": [
    "c_gate = Gate(name='custom', label='C', num_qubits=1, params=[])"
   ]
  },
  {
   "cell_type": "code",
   "execution_count": 32,
   "id": "10d5ca78",
   "metadata": {},
   "outputs": [],
   "source": [
    "qubit = 0\n",
    "GHz = 1.0e9"
   ]
  },
  {
   "cell_type": "code",
   "execution_count": 33,
   "id": "9082c01b",
   "metadata": {},
   "outputs": [
    {
     "data": {
      "image/png": "[encoded data removed]",
      "text/plain": [
       "<Figure size 936x164.943 with 1 Axes>"
      ]
     },
     "execution_count": 33,
     "metadata": {},
     "output_type": "execute_result"
    }
   ],
   "source": [
    "with pulse.build(backend) as gate_pulse:\n",
    "    drive_chan = pulse.drive_channel(qubit)\n",
    "    pulse.set_frequency(4.97164*GHz,drive_chan)\n",
    "    pulse.shift_phase(np.pi/5,drive_chan)\n",
    "    pulse.play(pulse.Gaussian(duration=320, amp=0.112233 + 0.778899j, sigma=80,\n",
    "                              ),drive_chan)S\n",
    "gate_pulse.draw()"
   ]
  },
  {
   "cell_type": "code",
   "execution_count": 34,
   "id": "fffb008c",
   "metadata": {},
   "outputs": [
    {
     "data": {
      "text/html": [
       "<pre style=\"word-wrap: normal;white-space: pre;background: #fff0;line-height: 1.1;font-family: &quot;Courier New&quot;,Courier,monospace\">     ┌───┐┌─┐\n",
       "  q: ┤ C ├┤M├\n",
       "     └───┘└╥┘\n",
       "c: 1/══════╩═\n",
       "           0 </pre>"
      ],
      "text/plain": [
       "     ┌───┐┌─┐\n",
       "  q: ┤ C ├┤M├\n",
       "     └───┘└╥┘\n",
       "c: 1/══════╩═\n",
       "           0 "
      ]
     },
     "execution_count": 34,
     "metadata": {},
     "output_type": "execute_result"
    }
   ],
   "source": [
    "#Circuit\n",
    "cc = QuantumCircuit(1,1)\n",
    "cc.append(c_gate,[0])\n",
    "cc.measure(0,0)\n",
    "cc.draw()"
   ]
  },
  {
   "cell_type": "code",
   "execution_count": 35,
   "id": "48bf430b",
   "metadata": {},
   "outputs": [
    {
     "data": {
      "text/html": [
       "<pre style=\"word-wrap: normal;white-space: pre;background: #fff0;line-height: 1.1;font-family: &quot;Courier New&quot;,Courier,monospace\">     ┌───┐┌─┐\n",
       "  q: ┤ C ├┤M├\n",
       "     └───┘└╥┘\n",
       "c: 1/══════╩═\n",
       "           0 </pre>"
      ],
      "text/plain": [
       "     ┌───┐┌─┐\n",
       "  q: ┤ C ├┤M├\n",
       "     └───┘└╥┘\n",
       "c: 1/══════╩═\n",
       "           0 "
      ]
     },
     "execution_count": 35,
     "metadata": {},
     "output_type": "execute_result"
    }
   ],
   "source": [
    "cc.add_calibration('custom',[0],gate_pulse)\n",
    "cc.draw()"
   ]
  },
  {
   "cell_type": "code",
   "execution_count": 36,
   "id": "21243503",
   "metadata": {},
   "outputs": [
    {
     "data": {
      "image/png": "[encoded data removed]",
      "text/plain": [
       "<Figure size 936x283.743 with 1 Axes>"
      ]
     },
     "execution_count": 36,
     "metadata": {},
     "output_type": "execute_result"
    }
   ],
   "source": [
    "cc_pulse = schedule(cc, backend)\n",
    "cc_pulse.draw()"
   ]
  },
  {
   "cell_type": "code",
   "execution_count": 37,
   "id": "07799415",
   "metadata": {},
   "outputs": [
    {
     "name": "stderr",
     "output_type": "stream",
     "text": [
      "/home/akash/.local/lib/python3.10/site-packages/qiskit/compiler/assembler.py:460: RuntimeWarning: Dynamic rep rates are supported on this backend. 'rep_delay' will be used instead of 'rep_time'.\n",
      "  warnings.warn(\n"
     ]
    },
    {
     "ename": "QiskitError",
     "evalue": "\"Invalid input object Pulse Qobj: 8427701d-2079-4567-b2df-8ab7915f84d4:\\nConfig: {'init_qubits': True,\\n 'meas_level': 2,\\n 'meas_lo_freq': [7.163214088,\\n                  7.283322155,\\n                  7.218928102,\\n                  7.110142342000001,\\n                  7.346997692],\\n 'meas_return': 'single',\\n 'memory': False,\\n 'memory_slot_size': 100,\\n 'memory_slots': 1,\\n 'n_qubits': 5,\\n 'parametric_pulses': ['gaussian', 'gaussian_square', 'drag', 'constant'],\\n 'pulse_library': [],\\n 'qubit_lo_freq': [4.962770879920025,\\n                   4.838412258764764,\\n                   5.036989248286842,\\n                   4.951300212210368,\\n                   5.066350584469812],\\n 'rep_delay': 250.0,\\n 'rep_time': 1000,\\n 'shots': 3200}\\nHeader: {'backend_name': 'fake_manila', 'backend_version': '1.0.4'}\\nExperiments:\\n\\nPulse Experiment:\\nHeader:\\n{'memory_slots': 1, 'metadata': {}, 'name': 'circuit-83'}\\nConfig:\\n{}\\n\\n\\tInstruction: setf\\n\\t\\tt0: 0\\n\\t\\tch: d0\\n\\t\\tfrequency: 4.97164\\n\\n\\tInstruction: fc\\n\\t\\tt0: 0\\n\\t\\tch: d0\\n\\t\\tphase: 0.6283185307179586\\n\\n\\tInstruction: parametric_pulse\\n\\t\\tt0: 0\\n\\t\\tch: d0\\n\\t\\tpulse_shape: gaussian\\n\\t\\tparameters: {'duration': 320, 'amp': (0.112233+0.778899j), 'sigma': 80}\\n\\n\\tInstruction: parametric_pulse\\n\\t\\tt0: 320\\n\\t\\tch: m0\\n\\t\\tpulse_shape: gaussian_square\\n\\t\\tparameters: {'duration': 22400, 'amp': (-0.23877102316798726-0.14624772988088564j), 'sigma': 64, 'width': 22144}\\n\\n\\tInstruction: delay\\n\\t\\tt0: 22720\\n\\t\\tch: m0\\n\\t\\tduration: 1680\\n\\n\\tInstruction: acquire\\n\\t\\tt0: 320\\n\\t\\tduration: 22400\\n\\t\\tqubits: [0]\\n\\t\\tmemory_slot: [0]\\n\\n, must be either a QuantumCircuit, Schedule, or a list of either\"",
     "output_type": "error",
     "traceback": [
      "\u001b[0;31m---------------------------------------------------------------------------\u001b[0m",
      "\u001b[0;31mQiskitError\u001b[0m                               Traceback (most recent call last)",
      "Input \u001b[0;32mIn [37]\u001b[0m, in \u001b[0;36m<cell line: 3>\u001b[0;34m()\u001b[0m\n\u001b[1;32m      1\u001b[0m pulse_sched \u001b[38;5;241m=\u001b[39m assemble(cc_pulse, backend\u001b[38;5;241m=\u001b[39mbackend, meas_level\u001b[38;5;241m=\u001b[39m\u001b[38;5;241m2\u001b[39m, meas_return\u001b[38;5;241m=\u001b[39m\u001b[38;5;124m'\u001b[39m\u001b[38;5;124msingle\u001b[39m\u001b[38;5;124m'\u001b[39m,\n\u001b[1;32m      2\u001b[0m                       shots \u001b[38;5;241m=\u001b[39m \u001b[38;5;241m3200\u001b[39m)\n\u001b[0;32m----> 3\u001b[0m job_custom \u001b[38;5;241m=\u001b[39m \u001b[43mbackend\u001b[49m\u001b[38;5;241;43m.\u001b[39;49m\u001b[43mrun\u001b[49m\u001b[43m(\u001b[49m\u001b[43mpulse_sched\u001b[49m\u001b[43m)\u001b[49m\n",
      "File \u001b[0;32m~/.local/lib/python3.10/site-packages/qiskit/test/mock/fake_backend.py:446\u001b[0m, in \u001b[0;36mFakeBackend.run\u001b[0;34m(self, run_input, **kwargs)\u001b[0m\n\u001b[1;32m    444\u001b[0m             pulse_job \u001b[38;5;241m=\u001b[39m \u001b[38;5;28;01mFalse\u001b[39;00m\n\u001b[1;32m    445\u001b[0m \u001b[38;5;28;01mif\u001b[39;00m pulse_job \u001b[38;5;129;01mis\u001b[39;00m \u001b[38;5;28;01mNone\u001b[39;00m:\n\u001b[0;32m--> 446\u001b[0m     \u001b[38;5;28;01mraise\u001b[39;00m QiskitError(\n\u001b[1;32m    447\u001b[0m         \u001b[38;5;124m\"\u001b[39m\u001b[38;5;124mInvalid input object \u001b[39m\u001b[38;5;132;01m%s\u001b[39;00m\u001b[38;5;124m, must be either a \u001b[39m\u001b[38;5;124m\"\u001b[39m\n\u001b[1;32m    448\u001b[0m         \u001b[38;5;124m\"\u001b[39m\u001b[38;5;124mQuantumCircuit, Schedule, or a list of either\u001b[39m\u001b[38;5;124m\"\u001b[39m \u001b[38;5;241m%\u001b[39m circuits\n\u001b[1;32m    449\u001b[0m     )\n\u001b[1;32m    450\u001b[0m \u001b[38;5;28;01mif\u001b[39;00m pulse_job:\n\u001b[1;32m    451\u001b[0m     \u001b[38;5;28;01mif\u001b[39;00m _optionals\u001b[38;5;241m.\u001b[39mHAS_AER:\n",
      "\u001b[0;31mQiskitError\u001b[0m: \"Invalid input object Pulse Qobj: 8427701d-2079-4567-b2df-8ab7915f84d4:\\nConfig: {'init_qubits': True,\\n 'meas_level': 2,\\n 'meas_lo_freq': [7.163214088,\\n                  7.283322155,\\n                  7.218928102,\\n                  7.110142342000001,\\n                  7.346997692],\\n 'meas_return': 'single',\\n 'memory': False,\\n 'memory_slot_size': 100,\\n 'memory_slots': 1,\\n 'n_qubits': 5,\\n 'parametric_pulses': ['gaussian', 'gaussian_square', 'drag', 'constant'],\\n 'pulse_library': [],\\n 'qubit_lo_freq': [4.962770879920025,\\n                   4.838412258764764,\\n                   5.036989248286842,\\n                   4.951300212210368,\\n                   5.066350584469812],\\n 'rep_delay': 250.0,\\n 'rep_time': 1000,\\n 'shots': 3200}\\nHeader: {'backend_name': 'fake_manila', 'backend_version': '1.0.4'}\\nExperiments:\\n\\nPulse Experiment:\\nHeader:\\n{'memory_slots': 1, 'metadata': {}, 'name': 'circuit-83'}\\nConfig:\\n{}\\n\\n\\tInstruction: setf\\n\\t\\tt0: 0\\n\\t\\tch: d0\\n\\t\\tfrequency: 4.97164\\n\\n\\tInstruction: fc\\n\\t\\tt0: 0\\n\\t\\tch: d0\\n\\t\\tphase: 0.6283185307179586\\n\\n\\tInstruction: parametric_pulse\\n\\t\\tt0: 0\\n\\t\\tch: d0\\n\\t\\tpulse_shape: gaussian\\n\\t\\tparameters: {'duration': 320, 'amp': (0.112233+0.778899j), 'sigma': 80}\\n\\n\\tInstruction: parametric_pulse\\n\\t\\tt0: 320\\n\\t\\tch: m0\\n\\t\\tpulse_shape: gaussian_square\\n\\t\\tparameters: {'duration': 22400, 'amp': (-0.23877102316798726-0.14624772988088564j), 'sigma': 64, 'width': 22144}\\n\\n\\tInstruction: delay\\n\\t\\tt0: 22720\\n\\t\\tch: m0\\n\\t\\tduration: 1680\\n\\n\\tInstruction: acquire\\n\\t\\tt0: 320\\n\\t\\tduration: 22400\\n\\t\\tqubits: [0]\\n\\t\\tmemory_slot: [0]\\n\\n, must be either a QuantumCircuit, Schedule, or a list of either\""
     ]
    }
   ],
   "source": [
    "pulse_sched = assemble(cc_pulse, backend=backend, meas_level=2, meas_return='single',\n",
    "                      shots = 3200)\n",
    "job_custom = backend.run(pulse_sched)"
   ]
  },
  {
   "cell_type": "code",
   "execution_count": null,
   "id": "54e5fc44",
   "metadata": {},
   "outputs": [],
   "source": [
    "from qiskit.tools.monitor import job_monitor\n",
    "job_monitor(job_custom)"
   ]
  },
  {
   "cell_type": "code",
   "execution_count": null,
   "id": "2e00572d",
   "metadata": {},
   "outputs": [],
   "source": [
    "job_result = job_custom.result()"
   ]
  },
  {
   "cell_type": "code",
   "execution_count": null,
   "id": "d0218b6f",
   "metadata": {},
   "outputs": [],
   "source": [
    "print(job_result.get_counts())"
   ]
  },
  {
   "cell_type": "code",
   "execution_count": null,
   "id": "5b9d944c",
   "metadata": {},
   "outputs": [],
   "source": [
    "plot_histogram(job_result.get_counts())"
   ]
  },
  {
   "cell_type": "markdown",
   "id": "6686beca",
   "metadata": {},
   "source": [
    "# Custom gate in Simulator"
   ]
  },
  {
   "cell_type": "code",
   "execution_count": 1,
   "id": "b66678db",
   "metadata": {},
   "outputs": [],
   "source": [
    "from qiskit.test import mock\n",
    "from qiskit.test.mock import FakeArmonk"
   ]
  },
  {
   "cell_type": "code",
   "execution_count": 2,
   "id": "f8cb47ed",
   "metadata": {},
   "outputs": [],
   "source": [
    "backend = mock.FakeArmonk()"
   ]
  },
  {
   "cell_type": "code",
   "execution_count": 6,
   "id": "348a1ead",
   "metadata": {},
   "outputs": [],
   "source": [
    "C = Gate('Custom Gate',label='C',num_qubits=1,params=[])"
   ]
  },
  {
   "cell_type": "code",
   "execution_count": 10,
   "id": "56b13caa",
   "metadata": {},
   "outputs": [
    {
     "data": {
      "image/png": "[encoded data removed]",
      "text/plain": [
       "<Figure size 936x123.562 with 1 Axes>"
      ]
     },
     "execution_count": 10,
     "metadata": {},
     "output_type": "execute_result"
    }
   ],
   "source": [
    "with pulse.build(backend) as gate_pulse1:\n",
    "    drive_chan = pulse.drive_channel(qubit)\n",
    "    pulse.set_frequency(4.97164*GHz,drive_chan)\n",
    "    pulse.shift_phase(np.pi/2,drive_chan)\n",
    "    pulse.play(pulse.Gaussian(duration=320, amp=.112233 + 0.778899j , sigma=80,\n",
    "                              ),drive_chan)\n",
    "gate_pulse1.draw()"
   ]
  },
  {
   "cell_type": "code",
   "execution_count": 13,
   "id": "8cda0714",
   "metadata": {},
   "outputs": [],
   "source": [
    "cc = QuantumCircuit(1,1)\n",
    "cc.append(C,[0])\n",
    "cc.measure(0,0)\n",
    "cc.add_calibration('Custom Gate', [0], gate_pulse1)\n"
   ]
  },
  {
   "cell_type": "code",
   "execution_count": 14,
   "id": "e97f8a8a",
   "metadata": {
    "scrolled": false
   },
   "outputs": [
    {
     "data": {
      "image/png": "[encoded data removed]",
      "text/plain": [
       "<Figure size 253.926x144.48 with 1 Axes>"
      ]
     },
     "execution_count": 14,
     "metadata": {},
     "output_type": "execute_result"
    }
   ],
   "source": [
    "cc.draw('mpl')"
   ]
  },
  {
   "cell_type": "code",
   "execution_count": 15,
   "id": "4a43a1c4",
   "metadata": {},
   "outputs": [],
   "source": [
    "from qiskit.providers.aer import PulseSimulator\n",
    "from qiskit.providers.aer.pulse import PulseSystemModel\n",
    "\n",
    "backend_sim = PulseSimulator.from_backend(backend)\n",
    "backend_model=PulseSystemModel.from_backend(backend)"
   ]
  },
  {
   "cell_type": "code",
   "execution_count": 16,
   "id": "0c69574b",
   "metadata": {
    "scrolled": false
   },
   "outputs": [
    {
     "data": {
      "image/png": "[encoded data removed]",
      "text/plain": [
       "<Figure size 936x246.748 with 1 Axes>"
      ]
     },
     "execution_count": 16,
     "metadata": {},
     "output_type": "execute_result"
    }
   ],
   "source": [
    "cc_t = transpile(cc, backend)\n",
    "cc_pulse = schedule(cc_t, backend)\n",
    "cc_pulse.draw()"
   ]
  },
  {
   "cell_type": "code",
   "execution_count": 18,
   "id": "30b7f92a",
   "metadata": {},
   "outputs": [],
   "source": [
    "\n",
    "pulse_sched_c = assemble(cc_pulse,backend=backend_sim,meas_level=2,meas_return='single',shots=3200)"
   ]
  },
  {
   "cell_type": "code",
   "execution_count": 19,
   "id": "d6c3da24",
   "metadata": {},
   "outputs": [],
   "source": [
    "job1_c = backend_sim.run(pulse_sched_c,backend_model)"
   ]
  },
  {
   "cell_type": "code",
   "execution_count": 20,
   "id": "de82b367",
   "metadata": {},
   "outputs": [
    {
     "ename": "AerError",
     "evalue": "'Schedules contain shift frequency and/or set frequency instructions, are not supported by PulseSimulator.'",
     "output_type": "error",
     "traceback": [
      "\u001b[0;31m---------------------------------------------------------------------------\u001b[0m",
      "\u001b[0;31mAerError\u001b[0m                                  Traceback (most recent call last)",
      "Input \u001b[0;32mIn [20]\u001b[0m, in \u001b[0;36m<cell line: 1>\u001b[0;34m()\u001b[0m\n\u001b[0;32m----> 1\u001b[0m plot_histogram(\u001b[43mjob1_c\u001b[49m\u001b[38;5;241;43m.\u001b[39;49m\u001b[43mresult\u001b[49m\u001b[43m(\u001b[49m\u001b[43m)\u001b[49m\u001b[38;5;241m.\u001b[39mget_counts())\n",
      "File \u001b[0;32m~/.local/lib/python3.10/site-packages/qiskit/providers/aer/jobs/utils.py:41\u001b[0m, in \u001b[0;36mrequires_submit.<locals>._wrapper\u001b[0;34m(self, *args, **kwargs)\u001b[0m\n\u001b[1;32m     39\u001b[0m \u001b[38;5;28;01mif\u001b[39;00m \u001b[38;5;28mself\u001b[39m\u001b[38;5;241m.\u001b[39m_future \u001b[38;5;129;01mis\u001b[39;00m \u001b[38;5;28;01mNone\u001b[39;00m:\n\u001b[1;32m     40\u001b[0m     \u001b[38;5;28;01mraise\u001b[39;00m JobError(\u001b[38;5;124m\"\u001b[39m\u001b[38;5;124mJob not submitted yet!. You have to .submit() first!\u001b[39m\u001b[38;5;124m\"\u001b[39m)\n\u001b[0;32m---> 41\u001b[0m \u001b[38;5;28;01mreturn\u001b[39;00m \u001b[43mfunc\u001b[49m\u001b[43m(\u001b[49m\u001b[38;5;28;43mself\u001b[39;49m\u001b[43m,\u001b[49m\u001b[43m \u001b[49m\u001b[38;5;241;43m*\u001b[39;49m\u001b[43margs\u001b[49m\u001b[43m,\u001b[49m\u001b[43m \u001b[49m\u001b[38;5;241;43m*\u001b[39;49m\u001b[38;5;241;43m*\u001b[39;49m\u001b[43mkwargs\u001b[49m\u001b[43m)\u001b[49m\n",
      "File \u001b[0;32m~/.local/lib/python3.10/site-packages/qiskit/providers/aer/jobs/aerjob.py:78\u001b[0m, in \u001b[0;36mAerJob.result\u001b[0;34m(self, timeout)\u001b[0m\n\u001b[1;32m     60\u001b[0m \u001b[38;5;129m@requires_submit\u001b[39m\n\u001b[1;32m     61\u001b[0m \u001b[38;5;28;01mdef\u001b[39;00m \u001b[38;5;21mresult\u001b[39m(\u001b[38;5;28mself\u001b[39m, timeout\u001b[38;5;241m=\u001b[39m\u001b[38;5;28;01mNone\u001b[39;00m):\n\u001b[1;32m     62\u001b[0m     \u001b[38;5;66;03m# pylint: disable=arguments-differ\u001b[39;00m\n\u001b[1;32m     63\u001b[0m     \u001b[38;5;124;03m\"\"\"Get job result. The behavior is the same as the underlying\u001b[39;00m\n\u001b[1;32m     64\u001b[0m \u001b[38;5;124;03m    concurrent Future objects,\u001b[39;00m\n\u001b[1;32m     65\u001b[0m \n\u001b[0;32m   (...)\u001b[0m\n\u001b[1;32m     76\u001b[0m \u001b[38;5;124;03m        concurrent.futures.CancelledError: if job cancelled before completed.\u001b[39;00m\n\u001b[1;32m     77\u001b[0m \u001b[38;5;124;03m    \"\"\"\u001b[39;00m\n\u001b[0;32m---> 78\u001b[0m     \u001b[38;5;28;01mreturn\u001b[39;00m \u001b[38;5;28;43mself\u001b[39;49m\u001b[38;5;241;43m.\u001b[39;49m\u001b[43m_future\u001b[49m\u001b[38;5;241;43m.\u001b[39;49m\u001b[43mresult\u001b[49m\u001b[43m(\u001b[49m\u001b[43mtimeout\u001b[49m\u001b[38;5;241;43m=\u001b[39;49m\u001b[43mtimeout\u001b[49m\u001b[43m)\u001b[49m\n",
      "File \u001b[0;32m~/anaconda3/envs/qkrishi_qiskit/lib/python3.10/concurrent/futures/_base.py:439\u001b[0m, in \u001b[0;36mFuture.result\u001b[0;34m(self, timeout)\u001b[0m\n\u001b[1;32m    437\u001b[0m     \u001b[38;5;28;01mraise\u001b[39;00m CancelledError()\n\u001b[1;32m    438\u001b[0m \u001b[38;5;28;01melif\u001b[39;00m \u001b[38;5;28mself\u001b[39m\u001b[38;5;241m.\u001b[39m_state \u001b[38;5;241m==\u001b[39m FINISHED:\n\u001b[0;32m--> 439\u001b[0m     \u001b[38;5;28;01mreturn\u001b[39;00m \u001b[38;5;28;43mself\u001b[39;49m\u001b[38;5;241;43m.\u001b[39;49m\u001b[43m__get_result\u001b[49m\u001b[43m(\u001b[49m\u001b[43m)\u001b[49m\n\u001b[1;32m    441\u001b[0m \u001b[38;5;28mself\u001b[39m\u001b[38;5;241m.\u001b[39m_condition\u001b[38;5;241m.\u001b[39mwait(timeout)\n\u001b[1;32m    443\u001b[0m \u001b[38;5;28;01mif\u001b[39;00m \u001b[38;5;28mself\u001b[39m\u001b[38;5;241m.\u001b[39m_state \u001b[38;5;129;01min\u001b[39;00m [CANCELLED, CANCELLED_AND_NOTIFIED]:\n",
      "File \u001b[0;32m~/anaconda3/envs/qkrishi_qiskit/lib/python3.10/concurrent/futures/_base.py:391\u001b[0m, in \u001b[0;36mFuture.__get_result\u001b[0;34m(self)\u001b[0m\n\u001b[1;32m    389\u001b[0m \u001b[38;5;28;01mif\u001b[39;00m \u001b[38;5;28mself\u001b[39m\u001b[38;5;241m.\u001b[39m_exception:\n\u001b[1;32m    390\u001b[0m     \u001b[38;5;28;01mtry\u001b[39;00m:\n\u001b[0;32m--> 391\u001b[0m         \u001b[38;5;28;01mraise\u001b[39;00m \u001b[38;5;28mself\u001b[39m\u001b[38;5;241m.\u001b[39m_exception\n\u001b[1;32m    392\u001b[0m     \u001b[38;5;28;01mfinally\u001b[39;00m:\n\u001b[1;32m    393\u001b[0m         \u001b[38;5;66;03m# Break a reference cycle with the exception in self._exception\u001b[39;00m\n\u001b[1;32m    394\u001b[0m         \u001b[38;5;28mself\u001b[39m \u001b[38;5;241m=\u001b[39m \u001b[38;5;28;01mNone\u001b[39;00m\n",
      "File \u001b[0;32m~/anaconda3/envs/qkrishi_qiskit/lib/python3.10/concurrent/futures/thread.py:58\u001b[0m, in \u001b[0;36m_WorkItem.run\u001b[0;34m(self)\u001b[0m\n\u001b[1;32m     55\u001b[0m     \u001b[38;5;28;01mreturn\u001b[39;00m\n\u001b[1;32m     57\u001b[0m \u001b[38;5;28;01mtry\u001b[39;00m:\n\u001b[0;32m---> 58\u001b[0m     result \u001b[38;5;241m=\u001b[39m \u001b[38;5;28;43mself\u001b[39;49m\u001b[38;5;241;43m.\u001b[39;49m\u001b[43mfn\u001b[49m\u001b[43m(\u001b[49m\u001b[38;5;241;43m*\u001b[39;49m\u001b[38;5;28;43mself\u001b[39;49m\u001b[38;5;241;43m.\u001b[39;49m\u001b[43margs\u001b[49m\u001b[43m,\u001b[49m\u001b[43m \u001b[49m\u001b[38;5;241;43m*\u001b[39;49m\u001b[38;5;241;43m*\u001b[39;49m\u001b[38;5;28;43mself\u001b[39;49m\u001b[38;5;241;43m.\u001b[39;49m\u001b[43mkwargs\u001b[49m\u001b[43m)\u001b[49m\n\u001b[1;32m     59\u001b[0m \u001b[38;5;28;01mexcept\u001b[39;00m \u001b[38;5;167;01mBaseException\u001b[39;00m \u001b[38;5;28;01mas\u001b[39;00m exc:\n\u001b[1;32m     60\u001b[0m     \u001b[38;5;28mself\u001b[39m\u001b[38;5;241m.\u001b[39mfuture\u001b[38;5;241m.\u001b[39mset_exception(exc)\n",
      "File \u001b[0;32m~/.local/lib/python3.10/site-packages/qiskit/providers/aer/backends/aerbackend.py:305\u001b[0m, in \u001b[0;36mAerBackend._run\u001b[0;34m(self, qobj, job_id, format_result)\u001b[0m\n\u001b[1;32m    302\u001b[0m         metadata_index \u001b[38;5;241m+\u001b[39m\u001b[38;5;241m=\u001b[39m \u001b[38;5;241m1\u001b[39m\n\u001b[1;32m    304\u001b[0m \u001b[38;5;66;03m# Run simulation\u001b[39;00m\n\u001b[0;32m--> 305\u001b[0m output \u001b[38;5;241m=\u001b[39m \u001b[38;5;28;43mself\u001b[39;49m\u001b[38;5;241;43m.\u001b[39;49m\u001b[43m_execute\u001b[49m\u001b[43m(\u001b[49m\u001b[43mqobj\u001b[49m\u001b[43m)\u001b[49m\n\u001b[1;32m    307\u001b[0m \u001b[38;5;66;03m# Recover metadata\u001b[39;00m\n\u001b[1;32m    308\u001b[0m metadata_index \u001b[38;5;241m=\u001b[39m \u001b[38;5;241m0\u001b[39m\n",
      "File \u001b[0;32m~/.local/lib/python3.10/site-packages/qiskit/providers/aer/backends/pulse_simulator.py:281\u001b[0m, in \u001b[0;36mPulseSimulator._execute\u001b[0;34m(self, qobj)\u001b[0m\n\u001b[1;32m    272\u001b[0m \u001b[38;5;124;03m\"\"\"Execute a qobj on the backend.\u001b[39;00m\n\u001b[1;32m    273\u001b[0m \n\u001b[1;32m    274\u001b[0m \u001b[38;5;124;03mArgs:\u001b[39;00m\n\u001b[0;32m   (...)\u001b[0m\n\u001b[1;32m    278\u001b[0m \u001b[38;5;124;03m    dict: return a dictionary of results.\u001b[39;00m\n\u001b[1;32m    279\u001b[0m \u001b[38;5;124;03m\"\"\"\u001b[39;00m\n\u001b[1;32m    280\u001b[0m qobj\u001b[38;5;241m.\u001b[39mconfig\u001b[38;5;241m.\u001b[39mqubit_freq_est \u001b[38;5;241m=\u001b[39m \u001b[38;5;28mself\u001b[39m\u001b[38;5;241m.\u001b[39mdefaults()\u001b[38;5;241m.\u001b[39mqubit_freq_est\n\u001b[0;32m--> 281\u001b[0m \u001b[38;5;28;01mreturn\u001b[39;00m \u001b[43mpulse_controller\u001b[49m\u001b[43m(\u001b[49m\u001b[43mqobj\u001b[49m\u001b[43m)\u001b[49m\n",
      "File \u001b[0;32m~/.local/lib/python3.10/site-packages/qiskit/providers/aer/pulse/controllers/pulse_controller.py:111\u001b[0m, in \u001b[0;36mpulse_controller\u001b[0;34m(qobj)\u001b[0m\n\u001b[1;32m    106\u001b[0m         pulse_sim_desc\u001b[38;5;241m.\u001b[39mcan_sample \u001b[38;5;241m=\u001b[39m \u001b[38;5;28;01mFalse\u001b[39;00m\n\u001b[1;32m    108\u001b[0m \u001b[38;5;66;03m# ###############################\u001b[39;00m\n\u001b[1;32m    109\u001b[0m \u001b[38;5;66;03m# ### Parse qobj_config settings\u001b[39;00m\n\u001b[1;32m    110\u001b[0m \u001b[38;5;66;03m# ###############################\u001b[39;00m\n\u001b[0;32m--> 111\u001b[0m digested_qobj \u001b[38;5;241m=\u001b[39m \u001b[43mdigest_pulse_qobj\u001b[49m\u001b[43m(\u001b[49m\u001b[43mqobj\u001b[49m\u001b[43m,\u001b[49m\n\u001b[1;32m    112\u001b[0m \u001b[43m                                  \u001b[49m\u001b[43mpulse_de_model\u001b[49m\u001b[38;5;241;43m.\u001b[39;49m\u001b[43mchannels\u001b[49m\u001b[43m,\u001b[49m\n\u001b[1;32m    113\u001b[0m \u001b[43m                                  \u001b[49m\u001b[43msystem_model\u001b[49m\u001b[38;5;241;43m.\u001b[39;49m\u001b[43mdt\u001b[49m\u001b[43m,\u001b[49m\n\u001b[1;32m    114\u001b[0m \u001b[43m                                  \u001b[49m\u001b[43mqubit_list\u001b[49m\u001b[43m)\u001b[49m\n\u001b[1;32m    116\u001b[0m \u001b[38;5;66;03m# extract simulation-description level qobj content\u001b[39;00m\n\u001b[1;32m    117\u001b[0m pulse_sim_desc\u001b[38;5;241m.\u001b[39mshots \u001b[38;5;241m=\u001b[39m digested_qobj\u001b[38;5;241m.\u001b[39mshots\n",
      "File \u001b[0;32m~/.local/lib/python3.10/site-packages/qiskit/providers/aer/pulse/controllers/digest_pulse_qobj.py:109\u001b[0m, in \u001b[0;36mdigest_pulse_qobj\u001b[0;34m(qobj, channels, dt, qubit_list)\u001b[0m\n\u001b[1;32m    106\u001b[0m         exp[\u001b[38;5;124m'\u001b[39m\u001b[38;5;124mconfig\u001b[39m\u001b[38;5;124m'\u001b[39m][\u001b[38;5;124m'\u001b[39m\u001b[38;5;124mqubit_lo_freq\u001b[39m\u001b[38;5;124m'\u001b[39m] \u001b[38;5;241m=\u001b[39m schedule_lo_list\n\u001b[1;32m    108\u001b[0m \u001b[38;5;66;03m# raises errors for unsupported features\u001b[39;00m\n\u001b[0;32m--> 109\u001b[0m \u001b[43m_unsupported_errors\u001b[49m\u001b[43m(\u001b[49m\u001b[43mqobj_dict\u001b[49m\u001b[43m)\u001b[49m\n\u001b[1;32m    111\u001b[0m \u001b[38;5;28;01mif\u001b[39;00m \u001b[38;5;124m'\u001b[39m\u001b[38;5;124mmemory_slots\u001b[39m\u001b[38;5;124m'\u001b[39m \u001b[38;5;129;01mnot\u001b[39;00m \u001b[38;5;129;01min\u001b[39;00m qobj_config:\n\u001b[1;32m    112\u001b[0m     \u001b[38;5;28;01mraise\u001b[39;00m \u001b[38;5;167;01mValueError\u001b[39;00m(\u001b[38;5;124m'\u001b[39m\u001b[38;5;124mNumber of memory_slots must be specific in Qobj config\u001b[39m\u001b[38;5;124m'\u001b[39m)\n",
      "File \u001b[0;32m~/.local/lib/python3.10/site-packages/qiskit/providers/aer/pulse/controllers/digest_pulse_qobj.py:173\u001b[0m, in \u001b[0;36m_unsupported_errors\u001b[0;34m(qobj_dict)\u001b[0m\n\u001b[1;32m    171\u001b[0m error_str \u001b[38;5;241m=\u001b[39m \u001b[38;5;124m'''\u001b[39m\u001b[38;5;124mSchedules contain \u001b[39m\u001b[38;5;132;01m{}\u001b[39;00m\u001b[38;5;124m, are not supported by PulseSimulator.\u001b[39m\u001b[38;5;124m'''\u001b[39m\n\u001b[1;32m    172\u001b[0m \u001b[38;5;28;01mif\u001b[39;00m _contains_frequency_instruction(qobj_dict[\u001b[38;5;124m'\u001b[39m\u001b[38;5;124mexperiments\u001b[39m\u001b[38;5;124m'\u001b[39m]):\n\u001b[0;32m--> 173\u001b[0m     \u001b[38;5;28;01mraise\u001b[39;00m AerError(error_str\u001b[38;5;241m.\u001b[39mformat(\u001b[38;5;124m'\u001b[39m\u001b[38;5;124mshift frequency and/or set frequency instructions\u001b[39m\u001b[38;5;124m'\u001b[39m))\n\u001b[1;32m    175\u001b[0m required_str \u001b[38;5;241m=\u001b[39m \u001b[38;5;124m'\u001b[39m\u001b[38;5;132;01m{}\u001b[39;00m\u001b[38;5;124m are required for simulation, and none were specified.\u001b[39m\u001b[38;5;124m'\u001b[39m\n\u001b[1;32m    176\u001b[0m \u001b[38;5;28;01mif\u001b[39;00m \u001b[38;5;129;01mnot\u001b[39;00m _contains_acquire_instruction(qobj_dict[\u001b[38;5;124m'\u001b[39m\u001b[38;5;124mexperiments\u001b[39m\u001b[38;5;124m'\u001b[39m]):\n",
      "\u001b[0;31mAerError\u001b[0m: 'Schedules contain shift frequency and/or set frequency instructions, are not supported by PulseSimulator.'"
     ]
    }
   ],
   "source": [
    "plot_histogram(job1_c.result().get_counts())"
   ]
  },
  {
   "cell_type": "code",
   "execution_count": null,
   "id": "19029c36",
   "metadata": {},
   "outputs": [],
   "source": []
  },
  {
   "cell_type": "code",
   "execution_count": null,
   "id": "b504291e",
   "metadata": {},
   "outputs": [],
   "source": [
    "from qiskit import assemble, pulse, QuantumCircuit,\\\n",
    "                   schedule, transpile\n",
    "from qiskit.circuit import Gate\n",
    "from qiskit.providers.aer import PulseSimulator\n",
    "from qiskit.providers.aer.pulse import PulseSystemModel\n",
    "from qiskit.pulse.library import Gaussian\n",
    "from qiskit.test import mock\n",
    "from qiskit import IBMQ\n",
    "from qiskit.visualization.pulse_v2 import draw\n",
    "import matplotlib.pyplot as plt\n",
    "from qiskit.tools.visualization import plot_histogram,plot_state_city, plot_bloch_vector,plot_state_qsphere\n",
    "# fake quantum computer we're using\n",
    "backend = mock.FakeArmonk()\n",
    "\n",
    "'''IBMQ.save_account('5aa05e965118a4d4c39c15a864c922b90f9beacaa68818452d6d5bdc0a9642e3ebcec552361e81811e90133399c375cdceb726c0eebd8b318a5158259740b2f7')\n",
    "IBMQ.load_account()\n",
    "provider = IBMQ.get_provider(hub='ibm-q', group='open', project='main')\n",
    "backend=provider.get_backend('ibmq_belem')'''\n",
    "\n",
    "#m=pulse.library.GaussianSquare(22400, 0.3051214347689275+0.1714669357180885j, 64, 22144)\n",
    "\n",
    "#    pulse.acquire(m, pulse.acquire_channel(0), MemorySlot(0))\n",
    "\n",
    "#print(h_q0.instructions)\n",
    "\n",
    "\n",
    "#job=execute(qc, backend=backend, shots=2000, optimization_level=0)\n",
    "#from qiskit.tools.monitor import job_monitor\n",
    "#job_monitor(job)\n",
    "#result=job.result()\n",
    "\n",
    "\n",
    "\n",
    "\n",
    "# prepare the pulse job\n",
    "pulse_qobj = assemble(qc_pulse, backend=backend_sim)\n",
    "\n",
    "# run the job on the backend\n",
    "result = backend_sim.run(qc_pulse, SystemModel=backend_model).result()\n",
    "\n",
    "counts = result.get_counts(qc)\n",
    "print(counts)\n",
    "\n",
    "\n",
    "plot_histogram(result.get_counts(qc))\n",
    "psi  = result.get_statevector(qc)\n",
    "'''print(psi)\n",
    "plot_state_qsphere(psi)\n",
    "plot_state_city(psi)\n",
    "#plot_bloch_multivector(psi)'''"
   ]
  },
  {
   "cell_type": "code",
   "execution_count": null,
   "id": "8a90b754",
   "metadata": {},
   "outputs": [],
   "source": [
    "from qiskit.pulse import DriveChannel\n",
    "channel = DriveChannel(0)\n",
    "\n",
    "amp = 0.35073525422528864*2\n",
    "sigma = 80\n",
    "num_samples = 320\n",
    "\n",
    "h = pulse.library.Drag(num_samples, amp, sigma, -1.4459614505662715,name=\"H\")"
   ]
  },
  {
   "cell_type": "code",
   "execution_count": null,
   "id": "a6a25d1c",
   "metadata": {},
   "outputs": [],
   "source": [
    "with pulse.build(backend,name='Custom') as h_q0:\n",
    "    pulse.shift_phase(-1.5707963268, channel)\n",
    "    pulse.play(h, channel)"
   ]
  },
  {
   "cell_type": "code",
   "execution_count": null,
   "id": "ff785efb",
   "metadata": {},
   "outputs": [],
   "source": [
    "from qiskit import QuantumCircuit\n",
    "qc9 = QuantumCircuit(1,1)\n",
    "qc9.h(0)\n",
    "qc9.measure(0, 0)\n",
    "    \n",
    "qc9.add_calibration('H', [0], h_q0)\n",
    "qc9.draw(output='mpl')"
   ]
  },
  {
   "cell_type": "code",
   "execution_count": null,
   "id": "95df63d1",
   "metadata": {},
   "outputs": [],
   "source": [
    "backend_sim = PulseSimulator.from_backend(backend)\n",
    "backend_model = PulseSystemModel.from_backend(backend)"
   ]
  },
  {
   "cell_type": "code",
   "execution_count": null,
   "id": "71d1504d",
   "metadata": {},
   "outputs": [],
   "source": [
    "qc9t = transpile(qc9, backend)\n",
    "qc9_pulse = schedule(qc9t, backend)"
   ]
  },
  {
   "cell_type": "code",
   "execution_count": null,
   "id": "eab91167",
   "metadata": {},
   "outputs": [],
   "source": [
    "result = backend_sim.run(qc9_pulse, SystemModel=backend_model).result()\n",
    "\n",
    "counts = result.get_counts(qc9)\n",
    "\n",
    "\n",
    "\n",
    "plot_histogram(result.get_counts(qc9))"
   ]
  },
  {
   "cell_type": "code",
   "execution_count": null,
   "id": "7788659b",
   "metadata": {},
   "outputs": [],
   "source": []
  },
  {
   "cell_type": "code",
   "execution_count": null,
   "id": "78850a59",
   "metadata": {},
   "outputs": [],
   "source": []
  },
  {
   "cell_type": "code",
   "execution_count": null,
   "id": "cf7a8074",
   "metadata": {},
   "outputs": [],
   "source": [
    "from qiskit import assemble, pulse, QuantumCircuit,\\\n",
    "                   schedule, transpile\n",
    "from qiskit.circuit import Gate\n",
    "from qiskit.providers.aer import PulseSimulator\n",
    "from qiskit.providers.aer.pulse import PulseSystemModel\n",
    "from qiskit.pulse.library import Gaussian\n",
    "from qiskit.test import mock\n",
    "from qiskit import IBMQ\n",
    "from qiskit.visualization.pulse_v2 import draw\n",
    "import matplotlib.pyplot as plt\n",
    "from qiskit.tools.visualization import plot_histogram,plot_state_city, plot_bloch_vector,plot_state_qsphere\n",
    "# fake quantum computer we're using\n",
    "backend = mock.FakeArmonk()\n",
    "\n",
    "'''IBMQ.save_account('5aa05e965118a4d4c39c15a864c922b90f9beacaa68818452d6d5bdc0a9642e3ebcec552361e81811e90133399c375cdceb726c0eebd8b318a5158259740b2f7')\n",
    "IBMQ.load_account()\n",
    "provider = IBMQ.get_provider(hub='ibm-q', group='open', project='main')\n",
    "backend=provider.get_backend('ibmq_belem')'''\n",
    "\n",
    "from qiskit.pulse import DriveChannel\n",
    "channel = DriveChannel(0)\n",
    "\n",
    "amp = 0.5555\n",
    "sigma = 80\n",
    "num_samples = 320\n",
    "\n",
    "h = pulse.library.Drag(num_samples, amp, sigma, -1.4459614505662715,name=\"H\")\n",
    "#m=pulse.library.GaussianSquare(22400, 0.3051214347689275+0.1714669357180885j, 64, 22144)\n",
    "\n",
    "with pulse.build(backend,name='Hadamard') as h_q0:\n",
    "    pulse.shift_phase(-1.5707963268, channel)\n",
    "    pulse.play(h, channel)\n",
    "    pulse.shift_phase(-1.5707963268, channel)\n",
    "#    pulse.acquire(m, pulse.acquire_channel(0), MemorySlot(0))\n",
    "\n",
    "#print(h_q0.instructions)\n",
    "\n",
    "from qiskit import QuantumCircuit\n",
    "qc = QuantumCircuit(1,1)\n",
    "qc.h(0)\n",
    "qc.measure(0, 0)\n",
    "    \n",
    "qc.add_calibration('h', [0], h_q0)\n",
    "qc.draw(output='mpl')\n",
    "#job=execute(qc, backend=backend, shots=2000, optimization_level=0)\n",
    "#from qiskit.tools.monitor import job_monitor\n",
    "#job_monitor(job)\n",
    "#result=job.result()\n",
    "backend_sim = PulseSimulator.from_backend(backend)\n",
    "backend_model = PulseSystemModel.from_backend(backend)\n",
    "\n",
    "qct = transpile(qc, backend)\n",
    "qc_pulse = schedule(qct, backend)\n",
    "\n",
    "# prepare the pulse job\n",
    "pulse_qobj = assemble(qc_pulse, backend=backend_sim)\n",
    "\n",
    "# run the job on the backend\n",
    "result = backend_sim.run(qc_pulse, SystemModel=backend_model).result()\n",
    "\n",
    "counts = result.get_counts(qc)\n",
    "#print(counts)\n",
    "\n",
    "\n",
    "plot_histogram(result.get_counts(qc))\n",
    "#psi  = result.get_statevector(qc)\n",
    "#'''print(psi)\n",
    "#plot_state_qsphere(psi)\n",
    "#plot_state_city(psi)\n",
    "#plot_bloch_multivector(psi)'''"
   ]
  },
  {
   "cell_type": "code",
   "execution_count": null,
   "id": "3f58920e",
   "metadata": {},
   "outputs": [],
   "source": []
  }
 ],
 "metadata": {
  "kernelspec": {
   "display_name": "Python 3 (ipykernel)",
   "language": "python",
   "name": "python3"
  },
  "language_info": {
   "codemirror_mode": {
    "name": "ipython",
    "version": 3
   },
   "file_extension": ".py",
   "mimetype": "text/x-python",
   "name": "python",
   "nbconvert_exporter": "python",
   "pygments_lexer": "ipython3",
   "version": "3.10.4"
  }
 },
 "nbformat": 4,
 "nbformat_minor": 5
}
